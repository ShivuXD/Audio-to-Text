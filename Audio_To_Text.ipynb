{
  "nbformat": 4,
  "nbformat_minor": 0,
  "metadata": {
    "colab": {
      "provenance": [],
      "authorship_tag": "ABX9TyPdfGqGtI6zrtYrurUCH0ET",
      "include_colab_link": true
    },
    "kernelspec": {
      "name": "python3",
      "display_name": "Python 3"
    },
    "language_info": {
      "name": "python"
    }
  },
  "cells": [
    {
      "cell_type": "markdown",
      "metadata": {
        "id": "view-in-github",
        "colab_type": "text"
      },
      "source": [
        "<a href=\"https://colab.research.google.com/github/ShivuXD/Audio-to-Text/blob/main/Audio_To_Text.ipynb\" target=\"_parent\"><img src=\"https://colab.research.google.com/assets/colab-badge.svg\" alt=\"Open In Colab\"/></a>"
      ]
    },
    {
      "cell_type": "code",
      "source": [
        "!pip install SpeechRecognition"
      ],
      "metadata": {
        "id": "kgg9pteQLsUx"
      },
      "execution_count": null,
      "outputs": []
    },
    {
      "cell_type": "code",
      "execution_count": 4,
      "metadata": {
        "id": "2TYo3b0ULcuc"
      },
      "outputs": [],
      "source": [
        "from google.colab import files\n",
        "from pydub import AudioSegment\n",
        "import speech_recognition as sr\n",
        "import os"
      ]
    },
    {
      "cell_type": "code",
      "source": [
        "files.upload()  # user uploads mp3\n",
        "mp3 = [f for f in os.listdir() if f.endswith('.mp3')][0]\n",
        "\n",
        "AudioSegment.from_file(mp3).export(\"out.wav\", format=\"wav\")\n",
        "r = sr.Recognizer()\n",
        "\n",
        "with sr.AudioFile(\"out.wav\") as source:\n",
        "    audio = r.record(source)\n",
        "\n",
        "text = r.recognize_google(audio)\n",
        "print(text)"
      ],
      "metadata": {
        "id": "E268QWy2LllV"
      },
      "execution_count": null,
      "outputs": []
    }
  ]
}